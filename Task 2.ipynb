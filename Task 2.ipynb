{
 "cells": [
  {
   "cell_type": "code",
   "execution_count": 2,
   "id": "a01022af-22ad-424b-89d7-56d9b293b05d",
   "metadata": {},
   "outputs": [
    {
     "name": "stdout",
     "output_type": "stream",
     "text": [
      "60 guess is high\n",
      "50 guess is high\n",
      "40 guess is high\n",
      "35 guess is high\n",
      "20 guess is high\n",
      "10 guess is low\n",
      "15 guess is low\n",
      "19 guess is high\n",
      "18 guess is high\n",
      "16 guess is low\n",
      "17 correct\n"
     ]
    }
   ],
   "source": [
    "#guess the number\n",
    "import random\n",
    "n=random.randint(1,100)\n",
    "while True:\n",
    "    a=int(input()) \n",
    "    if n==a:\n",
    "        print(a,\"correct\")\n",
    "        break\n",
    "    elif a<n:\n",
    "        print(a,\"guess is low\")\n",
    "    else:\n",
    "        print(a,\"guess is high\")"
   ]
  },
  {
   "cell_type": "code",
   "execution_count": null,
   "id": "3506c0e4",
   "metadata": {},
   "outputs": [
    {
     "name": "stdout",
     "output_type": "stream",
     "text": [
      "1\n",
      "2\n",
      "Fizz\n",
      "4\n",
      "Buzz\n",
      "Fizz\n",
      "7\n",
      "8\n",
      "Fizz\n",
      "Buzz\n",
      "11\n",
      "Fizz\n",
      "13\n",
      "14\n",
      "FizzBuzz\n"
     ]
    }
   ],
   "source": [
    "#fizzbuzz\n",
    "a=int(input())\n",
    "for i in range(1,a+1):\n",
    "    if i%3==0 and i%5==0:\n",
    "        print(\"FizzBuzz\")\n",
    "    elif i%5==0:\n",
    "        print(\"Buzz\")\n",
    "    elif i%3==0:\n",
    "        print(\"Fizz\")\n",
    "    else:\n",
    "        print(i)"
   ]
  },
  {
   "cell_type": "code",
   "execution_count": 22,
   "id": "65154874",
   "metadata": {},
   "outputs": [
    {
     "name": "stdout",
     "output_type": "stream",
     "text": [
      "[1, 2, 3, 4, 5, 6]\n"
     ]
    }
   ],
   "source": [
    "def sort(a):\n",
    "    for i in range(len(a)):\n",
    "        for j in range(i+1,len(a)):\n",
    "            if a[i]>a[j]:\n",
    "                a[i],a[j]=a[j],a[i]\n",
    "    return a\n",
    "x=sort([6,5,4,3,2,1])\n",
    "print(x)"
   ]
  },
  {
   "cell_type": "code",
   "execution_count": 10,
   "id": "8de6fae5",
   "metadata": {},
   "outputs": [
    {
     "name": "stdout",
     "output_type": "stream",
     "text": [
      "1\n"
     ]
    }
   ],
   "source": [
    "#factorial\n",
    "try:\n",
    "    a=int(input())\n",
    "    if a<0:\n",
    "        print(\"error\")\n",
    "    else:\n",
    "        b=1\n",
    "        for i in range(1,a+1):\n",
    "            b*=i\n",
    "        print(b)\n",
    "except:\n",
    "    print(\"error\")"
   ]
  },
  {
   "cell_type": "code",
   "execution_count": 27,
   "id": "533a611f",
   "metadata": {},
   "outputs": [
    {
     "name": "stdout",
     "output_type": "stream",
     "text": [
      "[0, 1, 2, 3]\n",
      "[0, 1, 2, 3]\n",
      "[0, 1, 2, 3]\n",
      "[0, 1, 2, 3]\n"
     ]
    }
   ],
   "source": [
    "#4x4 matrix \n",
    "a=int(input())\n",
    "c=[]\n",
    "for i in range(a):\n",
    "    b=[]\n",
    "    for j in range(a):\n",
    "        b.append(j)\n",
    "    c.append(b)\n",
    "for i in c:\n",
    "    print(i)\n",
    "    "
   ]
  },
  {
   "cell_type": "code",
   "execution_count": null,
   "id": "5ab4e5b9",
   "metadata": {},
   "outputs": [
    {
     "name": "stdout",
     "output_type": "stream",
     "text": [
      "0\n",
      "1\n",
      "2\n",
      "3\n",
      "4\n",
      "hi\n"
     ]
    }
   ],
   "source": [
    "#type conversation"
   ]
  }
 ],
 "metadata": {
  "kernelspec": {
   "display_name": "Python 3",
   "language": "python",
   "name": "python3"
  },
  "language_info": {
   "codemirror_mode": {
    "name": "ipython",
    "version": 3
   },
   "file_extension": ".py",
   "mimetype": "text/x-python",
   "name": "python",
   "nbconvert_exporter": "python",
   "pygments_lexer": "ipython3",
   "version": "3.13.5"
  }
 },
 "nbformat": 4,
 "nbformat_minor": 5
}
