{
 "cells": [
  {
   "cell_type": "code",
   "execution_count": 9,
   "id": "9870a6c4",
   "metadata": {},
   "outputs": [
    {
     "name": "stdout",
     "output_type": "stream",
     "text": [
      "102 None\n",
      "100\n",
      "248.0\n"
     ]
    }
   ],
   "source": [
    "# 4.Create class Temperature:\n",
    "# Use @property for Celsius\n",
    "# @celsius.setter updates Fahrenheit automatically\n",
    "# @staticmethod to convert between units\n",
    "class temperature():\n",
    "    def __init__(self, celsius):\n",
    "        self.celsius=celsius\n",
    "    @property\n",
    "    def celsius(self):\n",
    "        return self._celsius\n",
    "    @celsius.setter\n",
    "    def celsius(self,value):\n",
    "        self._celsius=value\n",
    "        self._fahrenheit = self.celsius_to_fahrenheit(value)\n",
    "    @property\n",
    "    def fahrenheit(self):\n",
    "        self._fahrenheit\n",
    "    @staticmethod\n",
    "    def celsius_to_fahrenheit(c):\n",
    "        return (c * 9/5) + 32\n",
    "    @staticmethod\n",
    "    def fahrenheit_to_celsius(f):\n",
    "        return (f - 32) * 5/9\n",
    "a=temperature(102)\n",
    "print(a.celsius,a.fahrenheit)\n",
    "a.celsius=100\n",
    "print(a.celsius)\n",
    "print(temperature.celsius_to_fahrenheit(120))"
   ]
  },
  {
   "cell_type": "code",
   "execution_count": null,
   "id": "ca792c0f",
   "metadata": {},
   "outputs": [],
   "source": []
  }
 ],
 "metadata": {
  "kernelspec": {
   "display_name": "Python 3",
   "language": "python",
   "name": "python3"
  },
  "language_info": {
   "codemirror_mode": {
    "name": "ipython",
    "version": 3
   },
   "file_extension": ".py",
   "mimetype": "text/x-python",
   "name": "python",
   "nbconvert_exporter": "python",
   "pygments_lexer": "ipython3",
   "version": "3.13.5"
  }
 },
 "nbformat": 4,
 "nbformat_minor": 5
}
