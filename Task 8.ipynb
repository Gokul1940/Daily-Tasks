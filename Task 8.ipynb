{
 "cells": [
  {
   "cell_type": "code",
   "execution_count": null,
   "id": "9870a6c4",
   "metadata": {},
   "outputs": [
    {
     "name": "stdout",
     "output_type": "stream",
     "text": [
      "102\n",
      "215.6\n",
      "100\n",
      "212.0\n"
     ]
    }
   ],
   "source": [
    "# 4.Create class Temperature:\n",
    "# Use @property for Celsius\n",
    "# @celsius.setter updates Fahrenheit automatically\n",
    "# @staticmethod to convert between units\n",
    "class temperature():\n",
    "    def __init__(self, celsius):\n",
    "        self.celsius=celsius\n",
    "    @property\n",
    "    def celsius(self):\n",
    "        return self._celsius\n",
    "    @celsius.setter\n",
    "    def celsius(self,celsius):\n",
    "        self._celsius=celsius\n",
    "        self._fahrenheit = (celsius * 9/5) + 32\n",
    "    @property\n",
    "    def fahrenheit(self):\n",
    "        return self._fahrenheit\n",
    "a=temperature(102)\n",
    "print(a.celsius)\n",
    "print(a.fahrenheit)\n",
    "a.celsius=100\n",
    "print(a.celsius)\n",
    "print(a.fahrenheit)\n",
    "\n",
    "\n"
   ]
  },
  {
   "cell_type": "code",
   "execution_count": null,
   "id": "ca792c0f",
   "metadata": {},
   "outputs": [],
   "source": []
  }
 ],
 "metadata": {
  "kernelspec": {
   "display_name": "Python 3",
   "language": "python",
   "name": "python3"
  },
  "language_info": {
   "codemirror_mode": {
    "name": "ipython",
    "version": 3
   },
   "file_extension": ".py",
   "mimetype": "text/x-python",
   "name": "python",
   "nbconvert_exporter": "python",
   "pygments_lexer": "ipython3",
   "version": "3.13.5"
  }
 },
 "nbformat": 4,
 "nbformat_minor": 5
}
