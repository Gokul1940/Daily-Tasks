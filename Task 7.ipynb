{
 "cells": [
  {
   "cell_type": "code",
   "execution_count": 18,
   "id": "01a400f5",
   "metadata": {},
   "outputs": [
    {
     "name": "stdout",
     "output_type": "stream",
     "text": [
      "user-friendly product\n",
      "download link :www.downloadlink.com\n"
     ]
    }
   ],
   "source": [
    "# 4.Create a class Product with __init__ for name and price. Implement __str__ to return a user-friendly product\n",
    "#  description. Create a subclass DigitalProduct that inherits from Product and adds a download_link attribute. \n",
    "#  Override __str__ to include the download link. \n",
    "class product():\n",
    "    def __init__(self,name,price):\n",
    "        self.name=name\n",
    "        self.price=price\n",
    "    def __str__(self):\n",
    "        return \"user-friendly product\"\n",
    "class digital_product(product):\n",
    "    def __init__(self,name,price,download_link):\n",
    "        super().__init__(name,price)\n",
    "        self.download_link=download_link\n",
    "    def __str__(self):\n",
    "        return f\"download link :{self.download_link}\"\n",
    "b=product(\"iphone\",70000)\n",
    "print(b)\n",
    "a=digital_product(\"iphone\",70000,\"www.downloadlink.com\")\n",
    "print(a)"
   ]
  },
  {
   "cell_type": "code",
   "execution_count": null,
   "id": "ae01b434",
   "metadata": {},
   "outputs": [],
   "source": []
  }
 ],
 "metadata": {
  "kernelspec": {
   "display_name": "Python 3",
   "language": "python",
   "name": "python3"
  },
  "language_info": {
   "codemirror_mode": {
    "name": "ipython",
    "version": 3
   },
   "file_extension": ".py",
   "mimetype": "text/x-python",
   "name": "python",
   "nbconvert_exporter": "python",
   "pygments_lexer": "ipython3",
   "version": "3.13.5"
  }
 },
 "nbformat": 4,
 "nbformat_minor": 5
}
