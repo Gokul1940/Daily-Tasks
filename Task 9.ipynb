{
 "cells": [
  {
   "cell_type": "code",
   "execution_count": 28,
   "id": "8ca6d035",
   "metadata": {},
   "outputs": [
    {
     "name": "stdout",
     "output_type": "stream",
     "text": [
      "<class 'str'>\n",
      "your role is not satisified\n"
     ]
    }
   ],
   "source": [
    "# 4.Use a decorator that checks a user’s role from a file before allowing function execution.\n",
    "# Requirements:\n",
    "# A file users.txt with format: username,role\n",
    "# Decorator: @role_required(role_name)\n",
    "# Read file to check if user has required role\n",
    "def role_required(a):\n",
    "    def role_name(func):\n",
    "        res=func\n",
    "        if res == b:\n",
    "            return \"your role is satisified\"\n",
    "        else:\n",
    "            return \"your role is not satisified\"\n",
    "    return role_name\n",
    "\n",
    "@role_required\n",
    "def role(a):\n",
    "    return a\n",
    "with open (\"user.txt\",\"a+\") as f:\n",
    "    f.write(\"username : Gokul\\n\")\n",
    "    f.write(\"role : Employee\\n\")\n",
    "    f.seek(0)\n",
    "    b=\"\"\n",
    "    for i in f:\n",
    "        if i.startswith(\"role\"):\n",
    "            b+=i\n",
    "    print(type(b))\n",
    "print(role(\"Employee\"))\n",
    "\n"
   ]
  },
  {
   "cell_type": "code",
   "execution_count": null,
   "id": "e0cfe211",
   "metadata": {},
   "outputs": [],
   "source": []
  }
 ],
 "metadata": {
  "kernelspec": {
   "display_name": "Python 3",
   "language": "python",
   "name": "python3"
  },
  "language_info": {
   "codemirror_mode": {
    "name": "ipython",
    "version": 3
   },
   "file_extension": ".py",
   "mimetype": "text/x-python",
   "name": "python",
   "nbconvert_exporter": "python",
   "pygments_lexer": "ipython3",
   "version": "3.13.5"
  }
 },
 "nbformat": 4,
 "nbformat_minor": 5
}
