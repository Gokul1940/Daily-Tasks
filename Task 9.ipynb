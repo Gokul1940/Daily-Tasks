{
 "cells": [
  {
   "cell_type": "code",
   "execution_count": null,
   "id": "8ca6d035",
   "metadata": {},
   "outputs": [
    {
     "name": "stdout",
     "output_type": "stream",
     "text": [
      "you, have a access\n"
     ]
    }
   ],
   "source": [
    "# 4.Use a decorator that checks a user’s role from a file before allowing function execution.\n",
    "# Requirements:\n",
    "# A file users.txt with format: username,role\n",
    "# Decorator: @role_required(role_name)\n",
    "# Read file to check if user has required role\n",
    "def role_required(req_role):\n",
    "    def role_name(func):\n",
    "        def new(*args,**kwargs):\n",
    "            with open(\"users.txt\",\"r\") as f:\n",
    "                b=\"\"\n",
    "                for i in f:\n",
    "                    if i.startswith(\"role\"):\n",
    "                        b=i.strip().split(\":\")[1].strip()\n",
    "            if b==req_role:\n",
    "                return \"you, have a access\"\n",
    "            else:\n",
    "                return \"Not have a access\"\n",
    "        return new\n",
    "    return role_name\n",
    "@role_required(\"Employee\")\n",
    "def role(new_role):\n",
    "    return new_role\n",
    "\n",
    "with open(\"users.txt\",\"w\") as f:\n",
    "    f.write(\"username : Gokul\\n\")\n",
    "    f.write(\"role : Employee\\n\")\n",
    "\n",
    "print(role(\"Employee\"))  \n"
   ]
  },
  {
   "cell_type": "code",
   "execution_count": null,
   "id": "e0cfe211",
   "metadata": {},
   "outputs": [],
   "source": []
  }
 ],
 "metadata": {
  "kernelspec": {
   "display_name": "Python 3",
   "language": "python",
   "name": "python3"
  },
  "language_info": {
   "codemirror_mode": {
    "name": "ipython",
    "version": 3
   },
   "file_extension": ".py",
   "mimetype": "text/x-python",
   "name": "python",
   "nbconvert_exporter": "python",
   "pygments_lexer": "ipython3",
   "version": "3.13.5"
  }
 },
 "nbformat": 4,
 "nbformat_minor": 5
}
