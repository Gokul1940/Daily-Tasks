{
 "cells": [
  {
   "cell_type": "code",
   "execution_count": null,
   "id": "f4d0194a",
   "metadata": {},
   "outputs": [
    {
     "name": "stdout",
     "output_type": "stream",
     "text": [
      "Take a book\n",
      "Take the magazine\n",
      "Take the dvd\n"
     ]
    }
   ],
   "source": [
    "# 4.Base class: LibraryItem with method get_info().\n",
    " \n",
    "# Derived classes:\n",
    " \n",
    "# Book, Magazine, DVD – each overrides get_info() to return its specific details.\n",
    "class LibraryItem():\n",
    "    def get_info(self):\n",
    "        print(\"This is libraryitems\")\n",
    "class book(LibraryItem):\n",
    "    def get_info(self):\n",
    "        print(\"Take a book\")\n",
    "class magazine(LibraryItem):\n",
    "    def get_info(self):\n",
    "        print(\"Take the magazine\")\n",
    "class dvd(LibraryItem):\n",
    "    def get_info(self):\n",
    "        print(\"Take the dvd\")\n",
    "a=book()\n",
    "a.get_info()\n",
    "b=magazine()\n",
    "b.get_info()\n",
    "c=dvd()\n",
    "c.get_info() "
   ]
  },
  {
   "cell_type": "code",
   "execution_count": null,
   "id": "4b968cb0",
   "metadata": {},
   "outputs": [],
   "source": []
  }
 ],
 "metadata": {
  "kernelspec": {
   "display_name": "Python 3",
   "language": "python",
   "name": "python3"
  },
  "language_info": {
   "codemirror_mode": {
    "name": "ipython",
    "version": 3
   },
   "file_extension": ".py",
   "mimetype": "text/x-python",
   "name": "python",
   "nbconvert_exporter": "python",
   "pygments_lexer": "ipython3",
   "version": "3.13.5"
  }
 },
 "nbformat": 4,
 "nbformat_minor": 5
}
