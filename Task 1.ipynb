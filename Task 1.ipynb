{
 "cells": [
  {
   "cell_type": "code",
   "execution_count": 24,
   "id": "9a03091f",
   "metadata": {},
   "outputs": [
    {
     "name": "stdout",
     "output_type": "stream",
     "text": [
      "[1, 2, 3, 4, 5]\n"
     ]
    }
   ],
   "source": [
    "# sort\n",
    "a=[1,3,5,4,2]\n",
    "for i in range(len(a)):\n",
    "    for j in range(i+1,len(a)):\n",
    "        if a[i]>a[j]:\n",
    "            a[i],a[j]=a[j],a[i]\n",
    "print(a)"
   ]
  },
  {
   "cell_type": "code",
   "execution_count": 26,
   "id": "8a1788b2",
   "metadata": {},
   "outputs": [
    {
     "name": "stdout",
     "output_type": "stream",
     "text": [
      "1\n"
     ]
    }
   ],
   "source": [
    "#count vowels\n",
    "a=\"python\"\n",
    "b=0\n",
    "c=\"aeiouAEIOU\"\n",
    "for i in a:\n",
    "    if i in c:\n",
    "        b+=1\n",
    "print(b)"
   ]
  },
  {
   "cell_type": "code",
   "execution_count": 39,
   "id": "5620cc51",
   "metadata": {},
   "outputs": [
    {
     "name": "stdout",
     "output_type": "stream",
     "text": [
      "not leap year\n"
     ]
    }
   ],
   "source": [
    "#leap year \n",
    "a=1900\n",
    "if a%400==0 or (a%4==0 and a%100!=0):\n",
    "    print(\"leap year\")\n",
    "else:\n",
    "    print(\"not leap year\")"
   ]
  },
  {
   "cell_type": "code",
   "execution_count": 36,
   "id": "c40abe69",
   "metadata": {},
   "outputs": [
    {
     "name": "stdout",
     "output_type": "stream",
     "text": [
      "prime\n"
     ]
    }
   ],
   "source": [
    "#Prime number\n",
    "a=17\n",
    "if a<=1:\n",
    "    print(\"not prime\")\n",
    "else:\n",
    "    b=True\n",
    "    c=0\n",
    "    for i in range(1,a+1):\n",
    "        if i*i>a:\n",
    "            c=i-1\n",
    "            break\n",
    "    for i in range(2,c+1):\n",
    "        if a%i==0:\n",
    "            b=False\n",
    "            break\n",
    "    if b:\n",
    "        print(\"prime\")\n",
    "    else:\n",
    "        print(\"not prime\")"
   ]
  },
  {
   "cell_type": "code",
   "execution_count": 1,
   "id": "93bd373b",
   "metadata": {},
   "outputs": [
    {
     "name": "stdout",
     "output_type": "stream",
     "text": [
      "1 for circle, 2 for recatangle, 3 for square\n",
      "area of square 16\n",
      "permeter of square is 16\n"
     ]
    }
   ],
   "source": [
    "print(\"1 for circle, 2 for recatangle, 3 for square\")\n",
    "a=input()\n",
    "match a:\n",
    "    case \"circle\":\n",
    "        b=int(input())\n",
    "        c=3.14*(b**2)\n",
    "        d=2*3.14*b\n",
    "        print(\"area of circle is\",c)\n",
    "        print(\"perimeter of circle\",d)\n",
    "    case \"rectangle\":\n",
    "        b=int(input())\n",
    "        c=int(input())\n",
    "        d=b*c\n",
    "        e=2*(b+c)\n",
    "        print(\"area of rectangle\",d)\n",
    "        print(\"perimeter of rectangle\",e)\n",
    "    case \"square\":\n",
    "        b=int(input())\n",
    "        c=b**2\n",
    "        d=4*b\n",
    "        print(\"area of square\",c)\n",
    "        print(\"permeter of square is\",d)\n",
    "    case _:\n",
    "        print(\"enter correct input\")\n"
   ]
  },
  {
   "cell_type": "code",
   "execution_count": 3,
   "id": "646cb05a",
   "metadata": {},
   "outputs": [
    {
     "name": "stdout",
     "output_type": "stream",
     "text": [
      "pass with a grade\n"
     ]
    }
   ],
   "source": [
    "a=int(input())\n",
    "b=int(input())\n",
    "c=int(input())\n",
    "d=int(input())\n",
    "e=int(input())\n",
    "avg=(a+b+c+d+e)/5\n",
    "match avg:\n",
    "    case _ if avg>=90:\n",
    "        print(\"pass with a grade\")\n",
    "    case _ if avg>=70 and avg<=89:\n",
    "        print(\"pass with c grade\")\n",
    "    case _ if avg>=50 and avg<=69:\n",
    "        print(\"pass with c grade\")\n",
    "    case _:\n",
    "        print(\"fail\")"
   ]
  },
  {
   "cell_type": "code",
   "execution_count": null,
   "id": "8e92f663",
   "metadata": {},
   "outputs": [],
   "source": []
  }
 ],
 "metadata": {
  "kernelspec": {
   "display_name": "Python 3",
   "language": "python",
   "name": "python3"
  },
  "language_info": {
   "codemirror_mode": {
    "name": "ipython",
    "version": 3
   },
   "file_extension": ".py",
   "mimetype": "text/x-python",
   "name": "python",
   "nbconvert_exporter": "python",
   "pygments_lexer": "ipython3",
   "version": "3.13.5"
  }
 },
 "nbformat": 4,
 "nbformat_minor": 5
}
