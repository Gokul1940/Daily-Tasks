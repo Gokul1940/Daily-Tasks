{
 "cells": [
  {
   "cell_type": "code",
   "execution_count": null,
   "id": "a4915f59",
   "metadata": {},
   "outputs": [
    {
     "name": "stdout",
     "output_type": "stream",
     "text": [
      "2550\n"
     ]
    }
   ],
   "source": [
    "#sum of all even numbers in 100\n",
    "a=100\n",
    "b=0\n",
    "for i in range(1,a+1):\n",
    "    if i%2==0:\n",
    "        b+=i\n",
    "print(b)"
   ]
  },
  {
   "cell_type": "code",
   "execution_count": null,
   "id": "c242ffdf",
   "metadata": {},
   "outputs": [
    {
     "name": "stdout",
     "output_type": "stream",
     "text": [
      "233168\n"
     ]
    }
   ],
   "source": [
    "#sum of number if divisible by 3 or 5\n",
    "a=1000\n",
    "b=0\n",
    "for i in range(a):\n",
    "    if i%3==0 or i%5==0:\n",
    "        b+=i\n",
    "print(b)"
   ]
  },
  {
   "cell_type": "code",
   "execution_count": 7,
   "id": "cf3381d9",
   "metadata": {},
   "outputs": [
    {
     "name": "stdout",
     "output_type": "stream",
     "text": [
      "z17qq21$x^\n"
     ]
    }
   ],
   "source": [
    "import random\n",
    "a=\"qwertyuiopsdfghjklzxcvbnm2134567890!@#$%^&*\"\n",
    "b=\"\"\n",
    "for i in range(10):\n",
    "    b+=random.choice(a)\n",
    "print(b)"
   ]
  },
  {
   "cell_type": "code",
   "execution_count": 47,
   "id": "97061e66",
   "metadata": {},
   "outputs": [
    {
     "name": "stdout",
     "output_type": "stream",
     "text": [
      "not strong\n"
     ]
    }
   ],
   "source": [
    "a=\"!@#$%^&*\"\n",
    "b=\"rakesh007\"\n",
    "c=0\n",
    "d=0\n",
    "if len(a)>=8:\n",
    "    for i in b:\n",
    "        if i.isalnum():\n",
    "            c+=1\n",
    "        elif i in a:\n",
    "            d+=1\n",
    "    if c and d:\n",
    "        print(\"strong\")\n",
    "    else:\n",
    "        print(\"not strong\")\n",
    "else:\n",
    "    print(\"enter minimum 8 character\")\n",
    "      "
   ]
  },
  {
   "cell_type": "code",
   "execution_count": 62,
   "id": "2d9eec64",
   "metadata": {},
   "outputs": [
    {
     "name": "stdout",
     "output_type": "stream",
     "text": [
      "b is invaild input\n"
     ]
    }
   ],
   "source": [
    "a,b,c=int(input(\"Enter number\")),int(input(\"Enter number\")),input(\"add or sub or div or mul\")\n",
    "match c:\n",
    "    case \"add\":\n",
    "        print(f\"addition {a+b}\")\n",
    "    case \"sub\":\n",
    "        print(f\"subtraction {a-b}\")\n",
    "    case \"mul\":\n",
    "        print(f\"multiply {a*b}\")\n",
    "    case \"div\":\n",
    "        if b==0:\n",
    "            print(\"b is invaild input\")\n",
    "        else:\n",
    "            print(f\"division {a/b}\")\n",
    "\n"
   ]
  },
  {
   "cell_type": "code",
   "execution_count": null,
   "id": "00673435",
   "metadata": {},
   "outputs": [],
   "source": []
  },
  {
   "cell_type": "code",
   "execution_count": null,
   "id": "eba71bce",
   "metadata": {},
   "outputs": [],
   "source": []
  }
 ],
 "metadata": {
  "kernelspec": {
   "display_name": "Python 3",
   "language": "python",
   "name": "python3"
  },
  "language_info": {
   "codemirror_mode": {
    "name": "ipython",
    "version": 3
   },
   "file_extension": ".py",
   "mimetype": "text/x-python",
   "name": "python",
   "nbconvert_exporter": "python",
   "pygments_lexer": "ipython3",
   "version": "3.13.5"
  }
 },
 "nbformat": 4,
 "nbformat_minor": 5
}
