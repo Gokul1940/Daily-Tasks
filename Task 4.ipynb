{
 "cells": [
  {
   "cell_type": "code",
   "execution_count": 5,
   "id": "3228bce4-733d-4b19-9452-53f80fd0d0c6",
   "metadata": {},
   "outputs": [
    {
     "name": "stdin",
     "output_type": "stream",
     "text": [
      " 4\n"
     ]
    },
    {
     "name": "stdout",
     "output_type": "stream",
     "text": [
      "area of circle is 50.2656\n"
     ]
    }
   ],
   "source": [
    "a=int(input())\n",
    "def area_of_cricle(a):\n",
    "    b=3.1416*(a**2)\n",
    "    print(f\"area of circle is {b}\")\n",
    "area_of_cricle(a)"
   ]
  },
  {
   "cell_type": "code",
   "execution_count": 80,
   "id": "04679810-014c-497c-ad16-301e9a7c2d5c",
   "metadata": {},
   "outputs": [
    {
     "name": "stdout",
     "output_type": "stream",
     "text": [
      "even :  KS\n"
     ]
    }
   ],
   "source": [
    "a=\"GOKSSm\"\n",
    "def middle_text(a):\n",
    "    if len(a)%2!=0:\n",
    "        print(\"odd :\",a[len(a)//2])\n",
    "    else:\n",
    "        g=len(a)//2\n",
    "        h=a[g-1:g+1]\n",
    "        print(\"even : \",h)\n",
    "middle_text(a)\n",
    "        "
   ]
  },
  {
   "cell_type": "code",
   "execution_count": 87,
   "id": "2b89dccc-052c-45c9-8cdb-35544fc5c3b6",
   "metadata": {},
   "outputs": [
    {
     "name": "stdin",
     "output_type": "stream",
     "text": [
      " 3\n",
      " 4\n"
     ]
    },
    {
     "name": "stdout",
     "output_type": "stream",
     "text": [
      "(4, 3)\n"
     ]
    }
   ],
   "source": [
    "a,b=int(input()),int(input())\n",
    "def swap(a,b):\n",
    "    tem=a\n",
    "    a=b\n",
    "    b=tem\n",
    "    print((c,b))\n",
    "swap(a,b)"
   ]
  },
  {
   "cell_type": "code",
   "execution_count": 98,
   "id": "0559c7e2-9f64-4ac4-9b93-2cc65a13fb37",
   "metadata": {},
   "outputs": [
    {
     "name": "stdout",
     "output_type": "stream",
     "text": [
      "j.b\n"
     ]
    }
   ],
   "source": [
    "a=\"john balan\"\n",
    "def get_intials(a):\n",
    "    b=a.split(\" \")\n",
    "    c=b[0]\n",
    "    d=b[1]\n",
    "    print(f\"{c[0]}.{d[0]}\")\n",
    "get_intials(a)"
   ]
  },
  {
   "cell_type": "code",
   "execution_count": 100,
   "id": "e8dc4fe4-6eac-4f0c-9d4e-21557b656c71",
   "metadata": {},
   "outputs": [
    {
     "name": "stdin",
     "output_type": "stream",
     "text": [
      " 1234\n"
     ]
    },
    {
     "name": "stdout",
     "output_type": "stream",
     "text": [
      "10\n"
     ]
    }
   ],
   "source": [
    "a=int(input())\n",
    "def sum_of_digits(a):\n",
    "    b=0\n",
    "    while a>0:\n",
    "        c=a%10\n",
    "        b+=c\n",
    "        a//=10\n",
    "    print(b)\n",
    "sum_of_digits(a)"
   ]
  },
  {
   "cell_type": "code",
   "execution_count": 92,
   "id": "76f25fd7-7895-4785-aade-18d93f8de442",
   "metadata": {},
   "outputs": [
    {
     "name": "stdin",
     "output_type": "stream",
     "text": [
      " gokul\n",
      " 24\n"
     ]
    },
    {
     "name": "stdout",
     "output_type": "stream",
     "text": [
      "enter a correct input\n"
     ]
    }
   ],
   "source": [
    "name,hour=input(),int(input())\n",
    "def time_greetings(name,hour):\n",
    "    if hour>=0 and hour<=23:\n",
    "        if hour<12:\n",
    "            print(f\"Good morning, {name}\")\n",
    "        elif hour>=12 and hour<18:\n",
    "            print(f\"Good afternoon, {name}\")\n",
    "        else:\n",
    "            print(f\"Good evening, {name}\")\n",
    "    else:\n",
    "        print(\"enter a correct input\")\n",
    "time_greetings(name,hour)\n",
    "\n"
   ]
  },
  {
   "cell_type": "code",
   "execution_count": 116,
   "id": "ee3a7013-baf7-447e-b58c-93d9be602161",
   "metadata": {},
   "outputs": [
    {
     "name": "stdin",
     "output_type": "stream",
     "text": [
      " 12\n",
      " 30\n"
     ]
    },
    {
     "name": "stdout",
     "output_type": "stream",
     "text": [
      "12 hours 30 has 45000 seconds\n"
     ]
    }
   ],
   "source": [
    "hours,minutes=int(input()),int(input())\n",
    "def to_seconds(hours,minutes):\n",
    "    if (hours>=0 and hours<=23)and (minutes>=0 and minutes<=59):\n",
    "        a=hours*60*60\n",
    "        b=minutes*60\n",
    "        print(f\"{hours} hours {minutes} has {a+b} seconds\")\n",
    "    else:\n",
    "        print(\"give correct input format\")\n",
    "    \n",
    "to_seconds(hours,minutes)"
   ]
  },
  {
   "cell_type": "code",
   "execution_count": 97,
   "id": "46664b8b-9586-4f0f-b150-3ad3705a1d1a",
   "metadata": {},
   "outputs": [
    {
     "name": "stdin",
     "output_type": "stream",
     "text": [
      " gokul@gmail.com\n"
     ]
    },
    {
     "name": "stdout",
     "output_type": "stream",
     "text": [
      "your domain isgmail.com\n"
     ]
    }
   ],
   "source": [
    "a=input()\n",
    "def get_domain(a):\n",
    "    b=a.split(\"@\")\n",
    "    print(f\"your domain is {b[1]}\")\n",
    "get_domain(a)"
   ]
  },
  {
   "cell_type": "code",
   "execution_count": null,
   "id": "8b4334af-93bf-4b53-93b8-7c5e6e341443",
   "metadata": {},
   "outputs": [],
   "source": []
  }
 ],
 "metadata": {
  "kernelspec": {
   "display_name": "Python 3 (ipykernel)",
   "language": "python",
   "name": "python3"
  },
  "language_info": {
   "codemirror_mode": {
    "name": "ipython",
    "version": 3
   },
   "file_extension": ".py",
   "mimetype": "text/x-python",
   "name": "python",
   "nbconvert_exporter": "python",
   "pygments_lexer": "ipython3",
   "version": "3.13.5"
  }
 },
 "nbformat": 4,
 "nbformat_minor": 5
}
