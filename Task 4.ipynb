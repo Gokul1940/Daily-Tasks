{
 "cells": [
  {
   "cell_type": "code",
   "execution_count": null,
   "id": "c1c2e337",
   "metadata": {},
   "outputs": [
    {
     "name": "stdout",
     "output_type": "stream",
     "text": [
      "it is a shape\n",
      "it is rectangle\n",
      "it is circle\n"
     ]
    }
   ],
   "source": [
    "class Shape(): #1\n",
    "    def draw(self):\n",
    "        print(\"it is a shape\")\n",
    "class Rectangle(Shape):\n",
    "    def draw(self):\n",
    "        print(\"it is rectangle\")\n",
    "class Circle(Shape):\n",
    "    def draw(self):\n",
    "        print(\"it is circle\")\n",
    "c=Shape()\n",
    "a=Rectangle()\n",
    "b=Circle()\n",
    "c.draw()\n",
    "a.draw()\n",
    "b.draw()"
   ]
  },
  {
   "cell_type": "code",
   "execution_count": 7,
   "id": "fd214516",
   "metadata": {},
   "outputs": [
    {
     "name": "stdout",
     "output_type": "stream",
     "text": [
      "120\n"
     ]
    }
   ],
   "source": [
    "class Multiple(): #2\n",
    "    def multiply(self,*args):\n",
    "        a=1\n",
    "        for i in args:\n",
    "            a*=i\n",
    "        print(a)\n",
    "a=Multiple()\n",
    "a.multiply(1,2,3,4,5)"
   ]
  },
  {
   "cell_type": "code",
   "execution_count": 20,
   "id": "46f10eb3",
   "metadata": {},
   "outputs": [
    {
     "name": "stdout",
     "output_type": "stream",
     "text": [
      "multiple inputs : Gokul, 43, college\n"
     ]
    }
   ],
   "source": [
    "class Printer(): #3\n",
    "    def print_info(self,*args):\n",
    "        if len(args)==1:\n",
    "            print(f\"single info : {args[0]}\")\n",
    "        elif len(args)==2:\n",
    "            print(f\"two info : {args[0]}, {args[1]}\")\n",
    "        elif len(args)>2:\n",
    "            print(f\"multiple inputs : {\", \".join(map(str,args))}\")\n",
    "        else:\n",
    "            print(\"no inforamtion\")\n",
    "a=Printer()\n",
    "a.print_info(\"Gokul\",43,\"college\")"
   ]
  },
  {
   "cell_type": "code",
   "execution_count": null,
   "id": "7e4ca338",
   "metadata": {},
   "outputs": [
    {
     "name": "stdout",
     "output_type": "stream",
     "text": [
      "Name : gokul\n",
      "Age : 34\n",
      "hobbies : playing,dancing,cooking\n"
     ]
    }
   ],
   "source": [
    "def create_profile(name,age,*hobbies): #4\n",
    "    print(\"Name :\",name)\n",
    "    print(\"Age :\",age)\n",
    "    print(\"hobbies :\",','.join(hobbies))\n",
    "create_profile(\"gokul\",34,\"playing\",\"dancing\",\"cooking\")"
   ]
  },
  {
   "cell_type": "code",
   "execution_count": 34,
   "id": "68ce0f91",
   "metadata": {},
   "outputs": [
    {
     "name": "stdout",
     "output_type": "stream",
     "text": [
      "age 7\n",
      "number 5\n"
     ]
    }
   ],
   "source": [
    "def all(**values):#5\n",
    "    for i,j in values.items():\n",
    "        if isinstance(j,int):\n",
    "            print(i,j)\n",
    "        else:\n",
    "            continue\n",
    "    # for i,j in values.items():\n",
    "    #     print(i,j)\n",
    "all(name=\"gokul\",age=7,number=5)\n",
    "        \n"
   ]
  },
  {
   "cell_type": "code",
   "execution_count": 46,
   "id": "3dfb15dd",
   "metadata": {},
   "outputs": [
    {
     "name": "stdout",
     "output_type": "stream",
     "text": [
      "your tax is 18% 118.0\n",
      "your discount is 10% 11.8\n",
      "your total price is 106.2\n"
     ]
    }
   ],
   "source": [
    "a=int(input())\n",
    "def cal(tax,discount):\n",
    "    b=a/100\n",
    "    tax*=b\n",
    "    tax+=a\n",
    "    discount=tax/discount\n",
    "    print(\"your tax is 18%\",tax)\n",
    "    print(\"your discount is 10%\",discount)\n",
    "    print(\"your total price is\",tax-discount)\n",
    "cal(18,10)"
   ]
  },
  {
   "cell_type": "code",
   "execution_count": null,
   "id": "4eede83e",
   "metadata": {},
   "outputs": [],
   "source": []
  }
 ],
 "metadata": {
  "kernelspec": {
   "display_name": "Python 3",
   "language": "python",
   "name": "python3"
  },
  "language_info": {
   "codemirror_mode": {
    "name": "ipython",
    "version": 3
   },
   "file_extension": ".py",
   "mimetype": "text/x-python",
   "name": "python",
   "nbconvert_exporter": "python",
   "pygments_lexer": "ipython3",
   "version": "3.13.5"
  }
 },
 "nbformat": 4,
 "nbformat_minor": 5
}
