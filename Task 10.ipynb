{
 "cells": [
  {
   "cell_type": "code",
   "execution_count": null,
   "id": "ff1a5df8",
   "metadata": {},
   "outputs": [
    {
     "name": "stdout",
     "output_type": "stream",
     "text": [
      "[3, 3, 4, 4, 5]\n"
     ]
    }
   ],
   "source": [
    "from itertools import accumulate\n",
    "a=[3,1,4,2,5]\n",
    "acc=accumulate(a,lambda x,y: max(x,y))\n",
    "print(list(acc))\n"
   ]
  },
  {
   "cell_type": "code",
   "execution_count": 11,
   "id": "6bf25688",
   "metadata": {},
   "outputs": [
    {
     "name": "stdout",
     "output_type": "stream",
     "text": [
      "[3, 3, 4, 4, 5]\n"
     ]
    }
   ],
   "source": [
    "from itertools import accumulate\n",
    "a=[3,1,4,2,5]\n",
    "acc=accumulate(a,max)\n",
    "print(list(acc))\n"
   ]
  },
  {
   "cell_type": "code",
   "execution_count": null,
   "id": "ccdbf90d",
   "metadata": {},
   "outputs": [],
   "source": []
  }
 ],
 "metadata": {
  "kernelspec": {
   "display_name": "Python 3",
   "language": "python",
   "name": "python3"
  },
  "language_info": {
   "codemirror_mode": {
    "name": "ipython",
    "version": 3
   },
   "file_extension": ".py",
   "mimetype": "text/x-python",
   "name": "python",
   "nbconvert_exporter": "python",
   "pygments_lexer": "ipython3",
   "version": "3.13.5"
  }
 },
 "nbformat": 4,
 "nbformat_minor": 5
}
